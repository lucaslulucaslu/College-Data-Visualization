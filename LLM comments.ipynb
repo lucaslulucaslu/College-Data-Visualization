{
 "cells": [
  {
   "cell_type": "code",
   "execution_count": 44,
   "id": "e3cab3aa-d600-4e0c-8b94-5b4064d75a40",
   "metadata": {},
   "outputs": [],
   "source": [
    "import pandas as pd\n",
    "import markdown\n",
    "from langchain_core.prompts import ChatPromptTemplate\n",
    "from langchain_core.output_parsers import StrOutputParser\n",
    "from langchain_openai import ChatOpenAI\n",
    "import pymysql\n",
    "import os\n",
    "import json\n",
    "import requests\n",
    "llm = ChatOpenAI(model=\"gpt-4o\")"
   ]
  },
  {
   "cell_type": "code",
   "execution_count": 18,
   "id": "c2e0c942-2c1f-4f2c-a63b-71682195898d",
   "metadata": {},
   "outputs": [],
   "source": [
    "comment_string=\"\"\"对该数据做出一段300字左右文字的简短的评论，标题层级不要超过一级，可以结合你知道的其他关于该类数据的信息一起评论，可以结合真实的新闻时事信息，但不要捏造信息，遇到比率等需要转换成百分比数。直接给出评论内容，在回答中不要提及数据项的代号，只使用各项数据的真实名称，且不要使用单引号\"\"\"\n",
    "rank_admin_data_url=\"https://www.forwardpathway.com/d3v7/dataphp/school_database/ranking_admin_20231213.php?name=\"\n",
    "information_data_url=\"https://www.forwardpathway.com/d3v7/dataphp/school_database/school_information_20240118.php?name=\"\n",
    "majors_data_url=\"https://www.forwardpathway.com/d3v7/dataphp/chatbot/degrees.php?name=\"\n",
    "SAT_data_url=\"https://www.forwardpathway.com/d3v7/dataphp/school_database/score10_20231213.php?name=\"\n",
    "students_data_url=\"https://www.forwardpathway.com/d3v7/dataphp/school_database/student_comp_20240118.php?name=\"\n",
    "age_data_url=\"https://www.forwardpathway.com/d3v7/dataphp/school_database/age_mf_20240118.php?name=\"\n",
    "international_data_url=\"https://www.forwardpathway.com/d3v7/dataphp/school_database/international_students_20240118.php?name=\"\n",
    "crime_data_url=\"https://www.forwardpathway.com/d3v7/dataphp/school_database/crime_yearly_20240324.php?name=\"\n",
    "nearby_data_url=\"https://www.forwardpathway.com/d3v7/dataphp/chatbot/school_nearby.php?name=\"\n",
    "college_postid=9228\n",
    "college_name=\"加州大学洛杉矶分校\"\n",
    "connection=pymysql.connect(\n",
    "    db     = os.environ['db_name'],\n",
    "    user   = os.environ['db_user'],\n",
    "    passwd = os.environ['db_pass'],\n",
    "    host   = os.environ['db_host'],\n",
    "    port   = 3306,\n",
    "    cursorclass=pymysql.cursors.DictCursor\n",
    ")\n",
    "cursor = connection.cursor()\n",
    "query=\"\"\"SELECT ca,efa,efb,ranking FROM fp_IPEDS.latest_information\"\"\"\n",
    "cursor.execute(query)\n",
    "row = cursor.fetchone()\n",
    "#connection.commit()\n",
    "rank_year=row['ranking']\n",
    "major_year=row['ca']\n",
    "students_year=row['efa']+1\n",
    "age_year=row['efb']+1\n",
    "cursor.close()\n",
    "connection.close()"
   ]
  },
  {
   "cell_type": "markdown",
   "id": "ae41ce61-4ead-4b7f-9e1d-67e268df3ed6",
   "metadata": {},
   "source": [
    "---------------排名录取率--------------------"
   ]
  },
  {
   "cell_type": "code",
   "execution_count": 19,
   "id": "6f178007-274d-4909-a732-32635e8bf3b3",
   "metadata": {},
   "outputs": [],
   "source": [
    "def rank_admin_comments(college_postid,college_name):\n",
    "    rank_admin_data=pd.read_json(rank_admin_data_url+str(college_postid))\n",
    "    rank_admin_prompt = ChatPromptTemplate.from_messages([\n",
    "            ('system',\"\"\"下面给出的是\"\"\"+college_name+\"\"\"排名与录取相关数据，数据中'year'为年份，'rank'为USNewws美国大学排名，'rate'为男生录取率,'rate2'为女生录取率,'enroll'为当年入学人数,'deny'为当年拒绝人数,'defer'为当年录取但延迟入学人数，\n",
    "                        \"\"\"+comment_string),\n",
    "            ('human',\"排名与录取数据如下：{data}\")\n",
    "        ])\n",
    "    rank_admin_chain = rank_admin_prompt | llm | StrOutputParser()\n",
    "    response=rank_admin_chain.invoke({\"data\":rank_admin_data}).replace(\"\\n\\n\",\"\\n\")\n",
    "    rank_admin_comments=markdown.markdown(response)\n",
    "    return rank_admin_comments"
   ]
  },
  {
   "cell_type": "markdown",
   "id": "6b4e6c18-3867-4fa8-b565-7a4e52544f84",
   "metadata": {},
   "source": [
    "------------------------基础数据-------------------------------"
   ]
  },
  {
   "cell_type": "code",
   "execution_count": 53,
   "id": "2e625173-1046-4599-bdc4-2af9bd4948b1",
   "metadata": {},
   "outputs": [],
   "source": [
    "def information_comments(college_postid,college_name):\n",
    "    #information_data=pd.read_json(information_data_url+str(college_postid))\n",
    "    reqeust_response=requests.get(information_data_url+str(college_postid))\n",
    "    information_data=json.loads(reqeust_response.content)\n",
    "    information_prompt = ChatPromptTemplate.from_messages([\n",
    "            ('system',\"\"\"下面给出的是\"\"\"+college_name+\"\"\"的相关数据，数据中'type'为学校类型，1为公立，2为私立\n",
    "                        'tuition'为学费数据，其中'year'为年份，'tuition_in_under'为州内本科学费,'tuition_out_under'为外州本科生学费，'tuition_in_grad'为州内研究生学费，'tuition_out_grad'为外州研究生学费；\n",
    "                        'students'为学生人数数据，其中'year'为年份，'students_under'为该校本科生人数，'students_grad'为该校研究生人数；\n",
    "                        'm2w'为男女比例数据，其中'year'为年份，'m2w_men_under'为本科生男生占比，'m2w_women_under'为本科生女生占比，'m2w_men_grad'为研究生男生占比，'m2w_women_grad'为研究生女生占比；\n",
    "                        'graduation'为毕业率数据，其中'year'为年份，'graduation_100_under'为本科生按时毕业率，'graduation_150_under'为本科生150%时间毕业率；\n",
    "                        'retention'为学生保有率数据，其中'year'为年份，'retention_under'为学生保有率；\n",
    "                        's2f'为学生教授比，其中'year'为年份，'s2f_under'为学生教授比；\n",
    "                        选取其中最重要或者变化比较大3-4个数据做讨论，不一定要所有点都提到\"\"\"+comment_string),\n",
    "            ('human',\"数据如下：{data}\")\n",
    "        ])\n",
    "    information_chain = information_prompt | llm | StrOutputParser()\n",
    "    response=information_chain.invoke({\"data\":information_data})\n",
    "    information_comments=markdown.markdown(response).replace(\"\\n\",\"\")\n",
    "    return information_comments"
   ]
  },
  {
   "cell_type": "markdown",
   "id": "582a8789-aa16-402f-81d0-778ff40a6712",
   "metadata": {},
   "source": [
    "-----------------------------专业数据---------------------------------"
   ]
  },
  {
   "cell_type": "code",
   "execution_count": 21,
   "id": "2b9b7389-40b3-46bb-b04f-226ab2914890",
   "metadata": {},
   "outputs": [],
   "source": [
    "def majors_comments(college_postid,college_name):\n",
    "    majors_data=pd.read_json(majors_data_url+str(college_postid),orient='index',convert_axes=False).reset_index(drop=True)\n",
    "    majors_data=majors_data.iloc[majors_data[['bachelor','master','doctorate']].sum(axis=1).sort_values(ascending=False).index]\n",
    "    majors_prompt = ChatPromptTemplate.from_messages([\n",
    "            ('system',\"\"\"下面给出的是\"\"\"+str(major_year)+\"\"\"年\"\"\"+college_name+\"\"\"的专业毕业人数相关数据，其中associate为副学士学位，bachelor为本科学位，master为硕士学位，doctorate为博士学位，\n",
    "                        associate_i为副学士学位国际留学生，bachelor_i为本科学位国际留学生，master_i为硕士学位国际留学生，doctorate_i为博士学位国际留学生，\n",
    "                        学位后面的数字为毕业年份，该栏对应数字为该专业该年份毕业的人数，\n",
    "                        从数据中找几个重要的或者有特点的类别分析，\"\"\"+comment_string),\n",
    "            ('human',\"数据如下：{data}\")\n",
    "        ])\n",
    "    majors_chain = majors_prompt | llm | StrOutputParser()\n",
    "    response=majors_chain.invoke({\"data\":majors_data})\n",
    "    majors_comments=markdown.markdown(response).replace(\"\\n\",\"\")\n",
    "    return majors_comments"
   ]
  },
  {
   "cell_type": "markdown",
   "id": "ff2cdcd7-1226-4cb8-8091-b0d4bf59e921",
   "metadata": {},
   "source": [
    "----------------------------------SAT/ACT--------------------------------------"
   ]
  },
  {
   "cell_type": "code",
   "execution_count": 22,
   "id": "cd5449fc-d664-429b-9ea4-faab1a6efc17",
   "metadata": {},
   "outputs": [],
   "source": [
    "def SAT_comments(college_postid,college_name):\n",
    "    SAT_data=pd.read_json(SAT_data_url+str(college_postid))\n",
    "    SAT_prompt = ChatPromptTemplate.from_messages([\n",
    "            ('system',\"\"\"下面给出的是\"\"\"+college_name+\"\"\"的相关数据，第一层为不同年份的数据，下面分为per和score部分，\n",
    "            其中per部分包含SAT和ACT成绩提交的人数（'number'）和占录取人数的比例（'per'），\n",
    "            score部分包含'SATR'为SAT阅读成绩，'SATM'为SAT数学成绩，'ACTC'为ACT综合成绩，'ACTE'为ACT英语成绩，'ACTM'为ACT数学成绩，\n",
    "            'start'是录取学生中25%该项成绩，'end'是录取学生总75%该项成绩，\"\"\"+comment_string),\n",
    "            ('human',\"数据如下：{data}\")\n",
    "        ])\n",
    "    SAT_chain = SAT_prompt | llm | StrOutputParser()\n",
    "    response=SAT_chain.invoke({\"data\":SAT_data})\n",
    "    SAT_comments=markdown.markdown(response).replace(\"\\n\",\"\")\n",
    "    return SAT_comments"
   ]
  },
  {
   "cell_type": "markdown",
   "id": "20c95f70-0401-4ba1-ba5a-587cd8f1b504",
   "metadata": {},
   "source": [
    "------------------------学生组成---------------------------------"
   ]
  },
  {
   "cell_type": "code",
   "execution_count": 23,
   "id": "5b50aac7-502c-41e3-8589-e7a76eeb01f3",
   "metadata": {},
   "outputs": [],
   "source": [
    "def students_comments(college_postid,college_name):\n",
    "    students_data=pd.read_json(students_data_url+str(college_postid))\n",
    "    students_prompt = ChatPromptTemplate.from_messages([\n",
    "            ('system',\"\"\"下面给出的是\"\"\"+str(students_year)+\"年\"+college_name+\"\"\"的学生组成相关数据，其中'name'是学生分类，有以下几种：'uf'是本科新生，'uj'是本科老生，'ut'是本科转学生，'gr'是研究生，\n",
    "            'value'是该类学生的人数，'ratioM'是该类学生男生占比，'ratioW'是该类学生女生占比，第一项的'year'是数据的年份\n",
    "            subs是该类学生的细分人种，有'wh'是白人，'as'是亚裔，'la'是拉丁裔，'pa'是太平洋岛国及其他，'af'是非裔，'nr'是留学生，学生人数代码依旧为'value'，男女比例代码也与上一层相同，在回答中请不要提及各个分类的代码，仅使用真实名称，\"\"\"+comment_string),\n",
    "            ('human',\"数据如下：{data}\")\n",
    "        ])\n",
    "    students_chain = students_prompt | llm | StrOutputParser()\n",
    "    response=students_chain.invoke({\"data\":students_data})\n",
    "    students_comments=markdown.markdown(response).replace(\"\\n\",\"\")\n",
    "    #students_comments=response\n",
    "    return students_comments"
   ]
  },
  {
   "cell_type": "markdown",
   "id": "726f3b82-987c-4d25-afa1-03a2a8a52ba2",
   "metadata": {},
   "source": [
    "-------------------学生年龄分布--------------------------------"
   ]
  },
  {
   "cell_type": "code",
   "execution_count": 24,
   "id": "d8612255-bb31-4ec7-b41a-d3fe7f524c58",
   "metadata": {},
   "outputs": [],
   "source": [
    "def age_comments(college_postid,college_name):\n",
    "    age_data=pd.read_json(age_data_url+str(college_postid))\n",
    "    age_data[['underf','gradf','totalf']]=-age_data[['underf','gradf','totalf']]\n",
    "    age_prompt = ChatPromptTemplate.from_messages([\n",
    "            ('system',\"\"\"下面给出的是\"\"\"+str(age_year)+\"年\"+college_name+\"\"\"的学生年龄组成相关数据，其中'cat'为不同年龄段的分类，'underm'是本科男生，'underf'是本科女生，'gradm'是研究生男生，'gradf'是研究生女生，\n",
    "            'totalm'是所有学生的那声，'totalf'是所有学生的女生，\"\"\"+comment_string),\n",
    "            ('human',\"数据如下：{data}\")\n",
    "        ])\n",
    "    age_chain = age_prompt | llm | StrOutputParser()\n",
    "    response=age_chain.invoke({\"data\":age_data})\n",
    "    age_comments=markdown.markdown(response).replace(\"\\n\",\"\")\n",
    "    return age_comments"
   ]
  },
  {
   "cell_type": "markdown",
   "id": "335b1d37-76c0-4a04-8b57-aba32843bf32",
   "metadata": {},
   "source": [
    "-------------------国际学生数量-----------------------------"
   ]
  },
  {
   "cell_type": "code",
   "execution_count": 25,
   "id": "85e11aef-fd06-4d97-ba56-12e882d9f2a9",
   "metadata": {},
   "outputs": [],
   "source": [
    "def international_comments(college_postid,college_name):\n",
    "    international_data=pd.read_json(international_data_url+str(college_postid))\n",
    "    international_prompt = ChatPromptTemplate.from_messages([\n",
    "            ('system',\"\"\"下面给出的是\"\"\"+college_name+\"\"\"的国际留学生相关数据，'year'为数据年份，其中'undertotal'为该校本科总学生数量，'under'为留学生数量，'underper'为本科学生中留学生占比，\n",
    "            'gradtotal'为该校研究生总学生数量，'grad'为研究生中留学生数量，'gradper'为研究生中留学生占比\"\"\"+comment_string),\n",
    "            ('human',\"数据如下：{data}\")\n",
    "        ])\n",
    "    international_chain = international_prompt | llm | StrOutputParser()\n",
    "    response=international_chain.invoke({\"data\":international_data})\n",
    "    international_comments=markdown.markdown(response).replace(\"\\n\",\"\")\n",
    "    return international_comments"
   ]
  },
  {
   "cell_type": "markdown",
   "id": "4eb075df-97d6-4f06-b4ad-be35b839b5c9",
   "metadata": {},
   "source": [
    "-------------------------犯罪率---------------------------------------"
   ]
  },
  {
   "cell_type": "code",
   "execution_count": 26,
   "id": "568cb900-6ec2-4ac5-b281-511a03ac9adb",
   "metadata": {},
   "outputs": [],
   "source": [
    "def crime_comments(college_postid,college_name):\n",
    "    crime_data=pd.read_json(crime_data_url+str(college_postid))\n",
    "    crime_dict={'WA':'持枪逮捕','DA':'毒品逮捕','LA':'酗酒逮捕','WD':'持枪记过','DD':'毒品记过','LD':'酗酒记过','DoV':'家暴','DaV':'约会犯罪','S':'跟踪','M':'谋杀','NM':'过失杀人','Ra':'强奸','F':'性扰','I':'乱伦','Ro':'抢劫','AA':'袭击','B':'盗窃','VT':'偷车','A':'纵火','RHF':'宿舍火灾'}\n",
    "    crime_prompt = ChatPromptTemplate.from_messages([\n",
    "            ('system',\"\"\"下面给出的是\"\"\"+college_name+\"\"\"的校园记过、犯罪相关数据，'year'为每组数据的年份，'crime_total'可以忽略，'avg1000'为每1000学生记过、犯罪率，\n",
    "            'subdata'为细分项，项目名称代码转换为真实名称如下表：{crime_dict}，其中'numberR'为数量，忽略'number'项，在回答最后附上犯罪率的计算方法链接：'https://www.forwardpathway.com/33447'，\"\"\"+comment_string),\n",
    "            ('human',\"数据如下：{data}\")\n",
    "        ])\n",
    "    crime_chain = crime_prompt | llm | StrOutputParser()\n",
    "    response=crime_chain.invoke({\"data\":crime_data,'crime_dict':crime_dict})\n",
    "    crime_comments=markdown.markdown(response).replace(\"\\n\",\"\")\n",
    "    return crime_comments"
   ]
  },
  {
   "cell_type": "markdown",
   "id": "87c867ec-4fe4-49ba-9275-55a4c6e3fb55",
   "metadata": {},
   "source": [
    "------------------------周边名校------------------------------------"
   ]
  },
  {
   "cell_type": "code",
   "execution_count": 27,
   "id": "260082e4-ac6d-4485-9ecd-1b814b024d13",
   "metadata": {},
   "outputs": [],
   "source": [
    "def nearby_comments(college_postid,college_name):\n",
    "    nearby_data=pd.read_json(nearby_data_url+str(college_postid))\n",
    "    nearby_data=nearby_data.sort_values('distance').drop(columns=['distance']).head(20)\n",
    "    nearby_prompt = ChatPromptTemplate.from_messages([\n",
    "            ('system',\"\"\"下面给出的是\"\"\"+college_name+\"\"\"的周边名校，数据中'name'为英文名，'cname'为中文名，'rank'为\"\"\"+str(rank_year)+\"\"\"USNews排名，'type'为学校类型，1为综合大学，2为文理学院，\n",
    "            对该校周边名校中挑选重点做一个简单的介绍，提到的学校需要链接，链接名为学校名称，链接url为'https://www.forwardpathway.com/'+'postid'\"\"\"),\n",
    "            ('human',\"数据如下：{data}\")\n",
    "        ])\n",
    "    nearby_chain = nearby_prompt | llm | StrOutputParser()\n",
    "    response=nearby_chain.invoke({\"data\":nearby_data})\n",
    "    nearby_comments=markdown.markdown(response).replace(\"\\n\",\"\")\n",
    "    return nearby_comments"
   ]
  },
  {
   "cell_type": "markdown",
   "id": "12bd8028-b07f-45ac-8d45-e2a593739c1d",
   "metadata": {},
   "source": [
    "-------------------------------写入database-----------------------------------"
   ]
  },
  {
   "cell_type": "code",
   "execution_count": 28,
   "id": "1933c87b-8411-423c-83cc-aec8b7d36386",
   "metadata": {},
   "outputs": [],
   "source": [
    "connection=pymysql.connect(\n",
    "    db     = os.environ['db_name'],\n",
    "    user   = os.environ['db_user'],\n",
    "    passwd = os.environ['db_pass'],\n",
    "    host   = os.environ['db_host'],\n",
    "    port   = 3306,\n",
    "    cursorclass=pymysql.cursors.DictCursor\n",
    ")\n",
    "cursor = connection.cursor()\n",
    "query=\"\"\"SELECT postid,unitid,name,cname,type FROM fp_ranking.colleges WHERE type IN (1,2)\"\"\"\n",
    "cursor.execute(query)\n",
    "rows = cursor.fetchall()\n",
    "colleges=pd.DataFrame(columns=['postid','unitid','name','cname','type'])\n",
    "for row in rows:\n",
    "    colleges=pd.concat([colleges,pd.DataFrame([row])])\n",
    "colleges=colleges.reset_index(drop=True)\n",
    "cursor.close()\n",
    "connection.close()"
   ]
  },
  {
   "cell_type": "code",
   "execution_count": 56,
   "id": "e99ac337-c4ac-460a-81e5-05e2ef6da7d4",
   "metadata": {},
   "outputs": [],
   "source": [
    "connection=pymysql.connect(\n",
    "    db     = os.environ['db_name'],\n",
    "    user   = os.environ['db_user'],\n",
    "    passwd = os.environ['db_pass'],\n",
    "    host   = os.environ['db_host'],\n",
    "    port   = 3306,\n",
    ")\n",
    "cursor = connection.cursor()"
   ]
  },
  {
   "cell_type": "code",
   "execution_count": null,
   "id": "e464b385-b38a-42d6-a6cf-d55e3ba02ae9",
   "metadata": {},
   "outputs": [],
   "source": [
    "for index,row in colleges.iterrows():\n",
    "    postid=row['postid']\n",
    "    unitid=row['unitid']\n",
    "    college_name=row['cname']\n",
    "    if index<=70:\n",
    "        continue\n",
    "    query=\"\"\"INSERT INTO fp_chatGPT.data_comments (postid,unitid,type,comment) VALUES ({},{},'{}','{}')\"\"\".format(postid,unitid,'rank_admin',rank_admin_comments(postid,college_name))\n",
    "    cursor.execute(query)\n",
    "    connection.commit()\n",
    "    query=\"\"\"INSERT INTO fp_chatGPT.data_comments (postid,unitid,type,comment) VALUES ({},{},'{}','{}')\"\"\".format(postid,unitid,'information',information_comments(postid,college_name))\n",
    "    cursor.execute(query)\n",
    "    connection.commit()\n",
    "    query=\"\"\"INSERT INTO fp_chatGPT.data_comments (postid,unitid,type,comment) VALUES ({},{},'{}','{}')\"\"\".format(postid,unitid,'majors',majors_comments(postid,college_name))\n",
    "    cursor.execute(query)\n",
    "    connection.commit()\n",
    "    query=\"\"\"INSERT INTO fp_chatGPT.data_comments (postid,unitid,type,comment) VALUES ({},{},'{}','{}')\"\"\".format(postid,unitid,'SAT_ACT',SAT_comments(postid,college_name))\n",
    "    cursor.execute(query)\n",
    "    connection.commit()\n",
    "    query=\"\"\"INSERT INTO fp_chatGPT.data_comments (postid,unitid,type,comment) VALUES ({},{},'{}','{}')\"\"\".format(postid,unitid,'stduents_comp',students_comments(postid,college_name))\n",
    "    cursor.execute(query)\n",
    "    connection.commit()\n",
    "    query=\"\"\"INSERT INTO fp_chatGPT.data_comments (postid,unitid,type,comment) VALUES ({},{},'{}','{}')\"\"\".format(postid,unitid,'age',age_comments(postid,college_name))\n",
    "    cursor.execute(query)\n",
    "    connection.commit()\n",
    "    query=\"\"\"INSERT INTO fp_chatGPT.data_comments (postid,unitid,type,comment) VALUES ({},{},'{}','{}')\"\"\".format(postid,unitid,'international',international_comments(postid,college_name))\n",
    "    cursor.execute(query)\n",
    "    connection.commit()\n",
    "    query=\"\"\"INSERT INTO fp_chatGPT.data_comments (postid,unitid,type,comment) VALUES ({},{},'{}','{}')\"\"\".format(postid,unitid,'crime',crime_comments(postid,college_name))\n",
    "    cursor.execute(query)\n",
    "    connection.commit()\n",
    "    query=\"\"\"INSERT INTO fp_chatGPT.data_comments (postid,unitid,type,comment) VALUES ({},{},'{}','{}')\"\"\".format(postid,unitid,'nearby',nearby_comments(postid,college_name))\n",
    "    cursor.execute(query)\n",
    "    connection.commit()\n",
    "cursor.close()\n",
    "connection.close()"
   ]
  },
  {
   "cell_type": "code",
   "execution_count": 79,
   "id": "92d08ca3-0f52-4d35-bc6e-426c3641f45f",
   "metadata": {},
   "outputs": [
    {
     "data": {
      "text/plain": [
       "70"
      ]
     },
     "execution_count": 79,
     "metadata": {},
     "output_type": "execute_result"
    }
   ],
   "source": [
    "index"
   ]
  },
  {
   "cell_type": "code",
   "execution_count": null,
   "id": "b8e05b77-b114-490e-9ed7-a455dc4d1518",
   "metadata": {},
   "outputs": [],
   "source": []
  }
 ],
 "metadata": {
  "kernelspec": {
   "display_name": "Python 3 (ipykernel)",
   "language": "python",
   "name": "python3"
  },
  "language_info": {
   "codemirror_mode": {
    "name": "ipython",
    "version": 3
   },
   "file_extension": ".py",
   "mimetype": "text/x-python",
   "name": "python",
   "nbconvert_exporter": "python",
   "pygments_lexer": "ipython3",
   "version": "3.12.3"
  }
 },
 "nbformat": 4,
 "nbformat_minor": 5
}
